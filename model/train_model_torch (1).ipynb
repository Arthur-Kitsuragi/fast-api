{
 "cells": [
  {
   "cell_type": "code",
   "execution_count": 30,
   "id": "d2f67068",
   "metadata": {
    "scrolled": true
   },
   "outputs": [],
   "source": [
    "import torch\n",
    "import numpy as np\n",
    "from sklearn.datasets import fetch_20newsgroups\n",
    "import string\n",
    "import re\n",
    "from collections import Counter\n",
    "import sys\n",
    "from torch import nn\n",
    "from torch.utils.data import DataLoader, TensorDataset\n",
    "from tqdm import tqdm, tqdm_notebook\n",
    "from torch.optim import lr_scheduler\n",
    "import torch.nn.functional as F\n",
    "import matplotlib.pyplot as plt"
   ]
  },
  {
   "cell_type": "code",
   "execution_count": 2,
   "id": "160e3575",
   "metadata": {},
   "outputs": [],
   "source": [
    "sys.path.append(\"D:/pdf_classifier\")\n",
    "from text_preprocessing import tokenize_long_text"
   ]
  },
  {
   "cell_type": "code",
   "execution_count": 3,
   "id": "de994af0",
   "metadata": {},
   "outputs": [],
   "source": [
    "newsgroups_train = fetch_20newsgroups(subset='train')"
   ]
  },
  {
   "cell_type": "code",
   "execution_count": 4,
   "id": "8db0020c",
   "metadata": {},
   "outputs": [],
   "source": [
    "newsgroups_test = fetch_20newsgroups(subset='test')"
   ]
  },
  {
   "cell_type": "code",
   "execution_count": 32,
   "id": "eb19fba6",
   "metadata": {},
   "outputs": [],
   "source": [
    "max_tokens = 10000\n",
    "output_sequence_length = 200 + 1\n",
    "lstm_units1 = 256\n",
    "lstm_units2 = 128\n",
    "dense_units = 256\n",
    "dropout = 0.7\n",
    "dropout1 = 0.7\n",
    "num_classes = 20"
   ]
  },
  {
   "cell_type": "code",
   "execution_count": 33,
   "id": "edff4e4e",
   "metadata": {},
   "outputs": [],
   "source": [
    "def create_vocab(dataset):\n",
    "    vocab = {\"<PAD>\": 0, \"<UNK>\": 1} \n",
    "    \n",
    "    counter = Counter()\n",
    "    \n",
    "    for text in dataset:\n",
    "        tokens = re.sub(f\"([{string.punctuation}])\", r'', text).lower().split()\n",
    "        counter.update(tokens)\n",
    "        \n",
    "    top_tokens = counter.most_common(max_tokens - 2) \n",
    "    \n",
    "    for t in top_tokens:\n",
    "        vocab[t[0]] = len(vocab)\n",
    "        \n",
    "    return vocab"
   ]
  },
  {
   "cell_type": "code",
   "execution_count": 34,
   "id": "f32d95e1",
   "metadata": {},
   "outputs": [],
   "source": [
    "vocab = create_vocab(newsgroups_train.data)"
   ]
  },
  {
   "cell_type": "code",
   "execution_count": 35,
   "id": "9297ab27",
   "metadata": {},
   "outputs": [],
   "source": [
    "def text_tokenization(dataset, vocab, output_sequence_length):\n",
    "    res = []\n",
    "    for text in dataset:\n",
    "        tokens = re.sub(f\"([{string.punctuation}])\", r'', text).lower().split()\n",
    "        tokens_int = [vocab[\"<PAD>\"]] * output_sequence_length\n",
    "        for i in range (min(output_sequence_length, len(tokens))):\n",
    "            if tokens[i] in vocab:\n",
    "                tokens_int[i] = vocab[tokens[i]]\n",
    "            else:\n",
    "                tokens_int[i] = vocab[\"<UNK>\"]\n",
    "        res.append(tokens_int)\n",
    "    return res"
   ]
  },
  {
   "cell_type": "code",
   "execution_count": 36,
   "id": "59c8d5e2",
   "metadata": {},
   "outputs": [],
   "source": [
    "newsgroups_train_tokenized = text_tokenization(newsgroups_train.data, vocab, output_sequence_length)"
   ]
  },
  {
   "cell_type": "code",
   "execution_count": 37,
   "id": "febdd486",
   "metadata": {},
   "outputs": [],
   "source": [
    "X = np.array(newsgroups_train_tokenized)\n",
    "y = np.array(newsgroups_train.target)\n",
    "X_tensor = torch.tensor(X, dtype=torch.float32) \n",
    "y_tensor = torch.tensor(y, dtype=torch.long)"
   ]
  },
  {
   "cell_type": "code",
   "execution_count": 38,
   "id": "29d1174f",
   "metadata": {},
   "outputs": [],
   "source": [
    "newsgroups_test_tokenized = text_tokenization(newsgroups_test.data, vocab, output_sequence_length)"
   ]
  },
  {
   "cell_type": "code",
   "execution_count": 39,
   "id": "b694f579",
   "metadata": {},
   "outputs": [],
   "source": [
    "X_t = np.array(newsgroups_test_tokenized)\n",
    "y_t  = np.array(newsgroups_test.target)"
   ]
  },
  {
   "cell_type": "code",
   "execution_count": 40,
   "id": "47e87cbe",
   "metadata": {},
   "outputs": [],
   "source": [
    "X_t_tensor = torch.tensor(X_t, dtype=torch.float32) \n",
    "y_t_tensor = torch.tensor(y_t, dtype=torch.long)"
   ]
  },
  {
   "cell_type": "code",
   "execution_count": 41,
   "id": "be6ef042",
   "metadata": {},
   "outputs": [],
   "source": [
    "dataset = TensorDataset(X_tensor, y_tensor)\n"
   ]
  },
  {
   "cell_type": "code",
   "execution_count": 42,
   "id": "7c3702b5",
   "metadata": {},
   "outputs": [],
   "source": [
    "test_dataset = TensorDataset(X_t_tensor, y_t_tensor)"
   ]
  },
  {
   "cell_type": "code",
   "execution_count": 43,
   "id": "4fd66f44",
   "metadata": {},
   "outputs": [],
   "source": [
    "class MyModel(nn.Module):\n",
    "    def __init__(self, max_tokens, embedding_dim, lstm_units1, lstm_units2, dense_units, dropout, dropout1, num_classes):\n",
    "        super(MyModel, self).__init__()\n",
    "        \n",
    "        self.embedding = nn.Embedding(num_embeddings=max_tokens, embedding_dim=embedding_dim, padding_idx=0)\n",
    "        \n",
    "        self.lstm1 = nn.LSTM(input_size=embedding_dim, hidden_size=lstm_units1, batch_first=True, bidirectional=True)\n",
    "        self.lstm2 = nn.LSTM(input_size=2*lstm_units1, hidden_size=lstm_units2, batch_first=True, bidirectional=True)\n",
    "        \n",
    "        self.dropout = nn.Dropout(dropout)\n",
    "        self.dropout1 = nn.Dropout(dropout1)\n",
    "        \n",
    "        self.fc = nn.Linear(2*lstm_units2, dense_units)\n",
    "        self.out = nn.Linear(dense_units, num_classes)\n",
    "        \n",
    "    def forward(self, x):\n",
    "        x = x.long()\n",
    "        x = self.embedding(x)  \n",
    "        \n",
    "        x, _ = self.lstm1(x)   \n",
    "        x, _ = self.lstm2(x)   \n",
    "        \n",
    "        x = x[:, -1, :]  \n",
    "        \n",
    "        x = self.dropout(x)\n",
    "        x = F.relu(self.fc(x))\n",
    "        x = self.dropout1(x)\n",
    "        x = self.out(x)\n",
    "        \n",
    "        return x\n"
   ]
  },
  {
   "cell_type": "code",
   "execution_count": 44,
   "id": "9e2b6442",
   "metadata": {},
   "outputs": [],
   "source": [
    "def fit_epoch(model, train_loader, criterion, optimizer):\n",
    "    model.train()\n",
    "    running_loss = 0.0\n",
    "    running_corrects = 0\n",
    "    processed_data = 0\n",
    "\n",
    "    for inputs, labels in train_loader:\n",
    "        inputs = inputs.to(DEVICE)\n",
    "        labels = labels.to(DEVICE)\n",
    "        optimizer.zero_grad()\n",
    "        outputs = model(inputs)\n",
    "        loss = criterion(outputs, labels)\n",
    "        loss.backward()\n",
    "        optimizer.step()\n",
    "        preds = torch.argmax(outputs, 1)\n",
    "        running_loss += loss.item() * inputs.size(0)\n",
    "        running_corrects += torch.sum(preds == labels.data)\n",
    "        processed_data += inputs.size(0)\n",
    "\n",
    "    train_loss = running_loss / processed_data\n",
    "    train_acc = running_corrects.cpu().numpy() / processed_data\n",
    "    return train_loss, train_acc"
   ]
  },
  {
   "cell_type": "code",
   "execution_count": 45,
   "id": "5b655c64",
   "metadata": {},
   "outputs": [],
   "source": [
    "def eval_epoch(model, val_loader, criterion):\n",
    "    model.eval()\n",
    "    running_loss = 0.0\n",
    "    running_corrects = 0\n",
    "    processed_size = 0\n",
    "\n",
    "    for inputs, labels in val_loader:\n",
    "        inputs = inputs.to(DEVICE)\n",
    "        labels = labels.to(DEVICE)\n",
    "\n",
    "        with torch.set_grad_enabled(False):\n",
    "            outputs = model(inputs)\n",
    "            loss = criterion(outputs, labels)\n",
    "            preds = torch.argmax(outputs, 1)\n",
    "\n",
    "        running_loss += loss.item() * inputs.size(0)\n",
    "        running_corrects += torch.sum(preds == labels.data)\n",
    "        processed_size += inputs.size(0)\n",
    "    val_loss = running_loss / processed_size\n",
    "    val_acc = running_corrects.double() / processed_size\n",
    "    return val_loss, val_acc"
   ]
  },
  {
   "cell_type": "code",
   "execution_count": 46,
   "id": "a1e370e4",
   "metadata": {},
   "outputs": [],
   "source": [
    "def train(train_files, val_files, model, epochs, batch_size):\n",
    "    train_loader = DataLoader(train_files, batch_size=batch_size, shuffle=True)\n",
    "    val_loader = DataLoader(val_files, batch_size=batch_size, shuffle=False)\n",
    "\n",
    "    history = []\n",
    "    log_template = \"\\nEpoch {ep:03d} train_loss: {t_loss:0.4f} \\\n",
    "    val_loss {v_loss:0.4f} train_acc {t_acc:0.4f} val_acc {v_acc:0.4f}\"\n",
    "    \n",
    "    best_val_loss = float('inf')\n",
    "    \n",
    "    with tqdm(desc=\"epoch\", total=epochs) as pbar_outer:\n",
    "        opt = torch.optim.AdamW(model.parameters(), lr=1e-3) #AdamW вместо Adam\n",
    "        exp_lr_scheduler = lr_scheduler.StepLR(opt, step_size=10, gamma=0.1)  #меняем learning rate \n",
    "        criterion = nn.CrossEntropyLoss()\n",
    "\n",
    "        for epoch in range(epochs):\n",
    "            train_loss, train_acc = fit_epoch(model, train_loader, criterion, opt)\n",
    "            print(\"loss\", train_loss)\n",
    "\n",
    "            val_loss, val_acc = eval_epoch(model, val_loader, criterion)\n",
    "            history.append((train_loss, train_acc, val_loss, val_acc))\n",
    "            \n",
    "            if val_loss < best_val_loss:\n",
    "                best_val_loss = val_loss\n",
    "                torch.save(model.state_dict(), \"best_model.pth\") \n",
    "                tqdm.write(f\"Best model saved at epoch {epoch+1} with val_loss={val_loss:.4f}\")\n",
    "                \n",
    "            pbar_outer.update(1)\n",
    "            tqdm.write(log_template.format(ep=epoch+1, t_loss=train_loss,\\\n",
    "                                           v_loss=val_loss, t_acc=train_acc, v_acc=val_acc))\n",
    "\n",
    "    return history"
   ]
  },
  {
   "cell_type": "code",
   "execution_count": 47,
   "id": "e0875383",
   "metadata": {},
   "outputs": [],
   "source": [
    "def predict(model, test_loader):\n",
    "    with torch.no_grad():\n",
    "        logits = []\n",
    "\n",
    "        for inputs in test_loader:\n",
    "            inputs = inputs.to(DEVICE)\n",
    "            model.eval()\n",
    "            outputs = model(inputs).cpu()\n",
    "            logits.append(outputs)\n",
    "\n",
    "    probs = nn.functional.softmax(torch.cat(logits), dim=-1).numpy()\n",
    "    return probs"
   ]
  },
  {
   "cell_type": "code",
   "execution_count": 48,
   "id": "a83b5228",
   "metadata": {},
   "outputs": [],
   "source": [
    "DEVICE = torch.device(\"cuda\")"
   ]
  },
  {
   "cell_type": "code",
   "execution_count": 49,
   "id": "59760eca",
   "metadata": {},
   "outputs": [],
   "source": [
    "model = MyModel(max_tokens, output_sequence_length, lstm_units1, lstm_units2, dense_units, dropout, dropout1, num_classes).to(DEVICE)"
   ]
  },
  {
   "cell_type": "code",
   "execution_count": 50,
   "id": "5dd5fce4",
   "metadata": {},
   "outputs": [],
   "source": [
    "model = model.to(DEVICE)"
   ]
  },
  {
   "cell_type": "code",
   "execution_count": 51,
   "id": "ab53109b",
   "metadata": {},
   "outputs": [
    {
     "name": "stderr",
     "output_type": "stream",
     "text": [
      "epoch:   0%|                                                                                    | 0/30 [00:00<?, ?it/s]"
     ]
    },
    {
     "name": "stdout",
     "output_type": "stream",
     "text": [
      "loss 2.998625817770079\n"
     ]
    },
    {
     "name": "stderr",
     "output_type": "stream",
     "text": [
      "epoch:   3%|██▌                                                                         | 1/30 [00:49<24:02, 49.73s/it]"
     ]
    },
    {
     "name": "stdout",
     "output_type": "stream",
     "text": [
      "Best model saved at epoch 1 with val_loss=2.9853\n",
      "\n",
      "Epoch 001 train_loss: 2.9986     val_loss 2.9853 train_acc 0.0566 val_acc 0.0645\n",
      "loss 2.9649097244710454\n"
     ]
    },
    {
     "name": "stderr",
     "output_type": "stream",
     "text": [
      "epoch:   7%|█████                                                                       | 2/30 [01:40<23:32, 50.44s/it]"
     ]
    },
    {
     "name": "stdout",
     "output_type": "stream",
     "text": [
      "Best model saved at epoch 2 with val_loss=2.8773\n",
      "\n",
      "Epoch 002 train_loss: 2.9649     val_loss 2.8773 train_acc 0.0622 val_acc 0.0982\n",
      "loss 2.929917547081982\n"
     ]
    },
    {
     "name": "stderr",
     "output_type": "stream",
     "text": [
      "epoch:  10%|███████▌                                                                    | 3/30 [02:25<21:31, 47.85s/it]"
     ]
    },
    {
     "name": "stdout",
     "output_type": "stream",
     "text": [
      "Best model saved at epoch 3 with val_loss=2.7570\n",
      "\n",
      "Epoch 003 train_loss: 2.9299     val_loss 2.7570 train_acc 0.0704 val_acc 0.1025\n",
      "loss 2.6697662885226565\n"
     ]
    },
    {
     "name": "stderr",
     "output_type": "stream",
     "text": [
      "epoch:  13%|██████████▏                                                                 | 4/30 [03:16<21:18, 49.19s/it]"
     ]
    },
    {
     "name": "stdout",
     "output_type": "stream",
     "text": [
      "Best model saved at epoch 4 with val_loss=2.5596\n",
      "\n",
      "Epoch 004 train_loss: 2.6698     val_loss 2.5596 train_acc 0.1013 val_acc 0.1268\n",
      "loss 2.4407570917993673\n"
     ]
    },
    {
     "name": "stderr",
     "output_type": "stream",
     "text": [
      "epoch:  17%|████████████▋                                                               | 5/30 [04:07<20:45, 49.80s/it]"
     ]
    },
    {
     "name": "stdout",
     "output_type": "stream",
     "text": [
      "Best model saved at epoch 5 with val_loss=2.4143\n",
      "\n",
      "Epoch 005 train_loss: 2.4408     val_loss 2.4143 train_acc 0.1318 val_acc 0.1441\n",
      "loss 2.2123498195933435\n"
     ]
    },
    {
     "name": "stderr",
     "output_type": "stream",
     "text": [
      "epoch:  20%|███████████████▏                                                            | 6/30 [04:58<20:03, 50.16s/it]"
     ]
    },
    {
     "name": "stdout",
     "output_type": "stream",
     "text": [
      "Best model saved at epoch 6 with val_loss=2.2745\n",
      "\n",
      "Epoch 006 train_loss: 2.2123     val_loss 2.2745 train_acc 0.1508 val_acc 0.1666\n",
      "loss 2.0989843772792427\n"
     ]
    },
    {
     "name": "stderr",
     "output_type": "stream",
     "text": [
      "epoch:  23%|█████████████████▋                                                          | 7/30 [05:49<19:18, 50.37s/it]"
     ]
    },
    {
     "name": "stdout",
     "output_type": "stream",
     "text": [
      "Best model saved at epoch 7 with val_loss=2.2389\n",
      "\n",
      "Epoch 007 train_loss: 2.0990     val_loss 2.2389 train_acc 0.1715 val_acc 0.1665\n",
      "loss 1.968686106602421\n"
     ]
    },
    {
     "name": "stderr",
     "output_type": "stream",
     "text": [
      "epoch:  27%|████████████████████▎                                                       | 8/30 [06:39<18:26, 50.28s/it]"
     ]
    },
    {
     "name": "stdout",
     "output_type": "stream",
     "text": [
      "Best model saved at epoch 8 with val_loss=2.1422\n",
      "\n",
      "Epoch 008 train_loss: 1.9687     val_loss 2.1422 train_acc 0.2131 val_acc 0.2212\n",
      "loss 1.781681376715652\n"
     ]
    },
    {
     "name": "stderr",
     "output_type": "stream",
     "text": [
      "epoch:  30%|██████████████████████▊                                                     | 9/30 [07:30<17:41, 50.53s/it]"
     ]
    },
    {
     "name": "stdout",
     "output_type": "stream",
     "text": [
      "Best model saved at epoch 9 with val_loss=2.0250\n",
      "\n",
      "Epoch 009 train_loss: 1.7817     val_loss 2.0250 train_acc 0.2748 val_acc 0.2735\n",
      "loss 1.5685834352342574\n"
     ]
    },
    {
     "name": "stderr",
     "output_type": "stream",
     "text": [
      "epoch:  33%|█████████████████████████                                                  | 10/30 [08:23<17:07, 51.37s/it]"
     ]
    },
    {
     "name": "stdout",
     "output_type": "stream",
     "text": [
      "Best model saved at epoch 10 with val_loss=1.9680\n",
      "\n",
      "Epoch 010 train_loss: 1.5686     val_loss 1.9680 train_acc 0.3310 val_acc 0.3258\n",
      "loss 1.4129113562013944\n"
     ]
    },
    {
     "name": "stderr",
     "output_type": "stream",
     "text": [
      "epoch:  37%|███████████████████████████▍                                               | 11/30 [09:14<16:15, 51.32s/it]"
     ]
    },
    {
     "name": "stdout",
     "output_type": "stream",
     "text": [
      "Best model saved at epoch 11 with val_loss=1.9312\n",
      "\n",
      "Epoch 011 train_loss: 1.4129     val_loss 1.9312 train_acc 0.3885 val_acc 0.3375\n",
      "loss 1.2498367336164289\n"
     ]
    },
    {
     "name": "stderr",
     "output_type": "stream",
     "text": [
      "epoch:  40%|██████████████████████████████                                             | 12/30 [10:04<15:14, 50.81s/it]"
     ]
    },
    {
     "name": "stdout",
     "output_type": "stream",
     "text": [
      "\n",
      "Epoch 012 train_loss: 1.2498     val_loss 1.9868 train_acc 0.4533 val_acc 0.3938\n",
      "loss 1.105540447675952\n"
     ]
    },
    {
     "name": "stderr",
     "output_type": "stream",
     "text": [
      "epoch:  43%|████████████████████████████████▌                                          | 13/30 [10:52<14:08, 49.91s/it]"
     ]
    },
    {
     "name": "stdout",
     "output_type": "stream",
     "text": [
      "Best model saved at epoch 13 with val_loss=1.8160\n",
      "\n",
      "Epoch 013 train_loss: 1.1055     val_loss 1.8160 train_acc 0.5232 val_acc 0.4529\n",
      "loss 0.9534886833230936\n"
     ]
    },
    {
     "name": "stderr",
     "output_type": "stream",
     "text": [
      "epoch:  47%|███████████████████████████████████                                        | 14/30 [11:41<13:14, 49.64s/it]"
     ]
    },
    {
     "name": "stdout",
     "output_type": "stream",
     "text": [
      "\n",
      "Epoch 014 train_loss: 0.9535     val_loss 1.9015 train_acc 0.5970 val_acc 0.4903\n",
      "loss 0.8281301169986962\n"
     ]
    },
    {
     "name": "stderr",
     "output_type": "stream",
     "text": [
      "epoch:  50%|█████████████████████████████████████▌                                     | 15/30 [12:31<12:24, 49.66s/it]"
     ]
    },
    {
     "name": "stdout",
     "output_type": "stream",
     "text": [
      "\n",
      "Epoch 015 train_loss: 0.8281     val_loss 1.8299 train_acc 0.6612 val_acc 0.5000\n",
      "loss 0.6994297807189671\n"
     ]
    },
    {
     "name": "stderr",
     "output_type": "stream",
     "text": [
      "epoch:  53%|████████████████████████████████████████                                   | 16/30 [13:19<11:28, 49.15s/it]"
     ]
    },
    {
     "name": "stdout",
     "output_type": "stream",
     "text": [
      "\n",
      "Epoch 016 train_loss: 0.6994     val_loss 1.8660 train_acc 0.7203 val_acc 0.5409\n",
      "loss 0.6360352136035342\n"
     ]
    },
    {
     "name": "stderr",
     "output_type": "stream",
     "text": [
      "epoch:  57%|██████████████████████████████████████████▌                                | 17/30 [14:06<10:32, 48.67s/it]"
     ]
    },
    {
     "name": "stdout",
     "output_type": "stream",
     "text": [
      "\n",
      "Epoch 017 train_loss: 0.6360     val_loss 1.9332 train_acc 0.7484 val_acc 0.5446\n",
      "loss 0.5403463820467028\n"
     ]
    },
    {
     "name": "stderr",
     "output_type": "stream",
     "text": [
      "epoch:  60%|█████████████████████████████████████████████                              | 18/30 [14:54<09:42, 48.56s/it]"
     ]
    },
    {
     "name": "stdout",
     "output_type": "stream",
     "text": [
      "\n",
      "Epoch 018 train_loss: 0.5403     val_loss 1.9439 train_acc 0.7855 val_acc 0.5848\n",
      "loss 0.47159355913118917\n"
     ]
    },
    {
     "name": "stderr",
     "output_type": "stream",
     "text": [
      "epoch:  63%|███████████████████████████████████████████████▌                           | 19/30 [15:43<08:54, 48.55s/it]"
     ]
    },
    {
     "name": "stdout",
     "output_type": "stream",
     "text": [
      "Best model saved at epoch 19 with val_loss=1.7835\n",
      "\n",
      "Epoch 019 train_loss: 0.4716     val_loss 1.7835 train_acc 0.8283 val_acc 0.5899\n",
      "loss 0.39377103696551896\n"
     ]
    },
    {
     "name": "stderr",
     "output_type": "stream",
     "text": [
      "epoch:  67%|██████████████████████████████████████████████████                         | 20/30 [16:32<08:08, 48.82s/it]"
     ]
    },
    {
     "name": "stdout",
     "output_type": "stream",
     "text": [
      "\n",
      "Epoch 020 train_loss: 0.3938     val_loss 2.0971 train_acc 0.8578 val_acc 0.6106\n",
      "loss 0.348224972163584\n"
     ]
    },
    {
     "name": "stderr",
     "output_type": "stream",
     "text": [
      "epoch:  70%|████████████████████████████████████████████████████▌                      | 21/30 [17:22<07:22, 49.16s/it]"
     ]
    },
    {
     "name": "stdout",
     "output_type": "stream",
     "text": [
      "\n",
      "Epoch 021 train_loss: 0.3482     val_loss 1.9973 train_acc 0.8777 val_acc 0.6151\n",
      "loss 0.3229798129781131\n"
     ]
    },
    {
     "name": "stderr",
     "output_type": "stream",
     "text": [
      "epoch:  73%|██████████████████████████████████████████████████████▉                    | 22/30 [18:11<06:32, 49.09s/it]"
     ]
    },
    {
     "name": "stdout",
     "output_type": "stream",
     "text": [
      "\n",
      "Epoch 022 train_loss: 0.3230     val_loss 2.2929 train_acc 0.8951 val_acc 0.6316\n",
      "loss 0.2550023333630438\n"
     ]
    },
    {
     "name": "stderr",
     "output_type": "stream",
     "text": [
      "epoch:  77%|█████████████████████████████████████████████████████████▌                 | 23/30 [19:00<05:42, 48.91s/it]"
     ]
    },
    {
     "name": "stdout",
     "output_type": "stream",
     "text": [
      "\n",
      "Epoch 023 train_loss: 0.2550     val_loss 2.2491 train_acc 0.9215 val_acc 0.6346\n",
      "loss 0.2225420944726943\n"
     ]
    },
    {
     "name": "stderr",
     "output_type": "stream",
     "text": [
      "epoch:  80%|████████████████████████████████████████████████████████████               | 24/30 [19:48<04:52, 48.79s/it]"
     ]
    },
    {
     "name": "stdout",
     "output_type": "stream",
     "text": [
      "\n",
      "Epoch 024 train_loss: 0.2225     val_loss 2.1854 train_acc 0.9357 val_acc 0.6531\n",
      "loss 0.1868480994658735\n"
     ]
    },
    {
     "name": "stderr",
     "output_type": "stream",
     "text": [
      "epoch:  83%|██████████████████████████████████████████████████████████████▌            | 25/30 [20:37<04:03, 48.76s/it]"
     ]
    },
    {
     "name": "stdout",
     "output_type": "stream",
     "text": [
      "\n",
      "Epoch 025 train_loss: 0.1868     val_loss 2.2407 train_acc 0.9463 val_acc 0.6722\n",
      "loss 0.18305038299751794\n"
     ]
    },
    {
     "name": "stderr",
     "output_type": "stream",
     "text": [
      "epoch:  87%|█████████████████████████████████████████████████████████████████          | 26/30 [21:26<03:15, 48.77s/it]"
     ]
    },
    {
     "name": "stdout",
     "output_type": "stream",
     "text": [
      "\n",
      "Epoch 026 train_loss: 0.1831     val_loss 2.6045 train_acc 0.9483 val_acc 0.6774\n",
      "loss 0.14751363617437024\n"
     ]
    },
    {
     "name": "stderr",
     "output_type": "stream",
     "text": [
      "epoch:  90%|███████████████████████████████████████████████████████████████████▌       | 27/30 [22:17<02:28, 49.44s/it]"
     ]
    },
    {
     "name": "stdout",
     "output_type": "stream",
     "text": [
      "\n",
      "Epoch 027 train_loss: 0.1475     val_loss 2.3490 train_acc 0.9592 val_acc 0.6857\n",
      "loss 0.14162944341269734\n"
     ]
    },
    {
     "name": "stderr",
     "output_type": "stream",
     "text": [
      "epoch:  93%|██████████████████████████████████████████████████████████████████████     | 28/30 [22:42<01:24, 42.06s/it]"
     ]
    },
    {
     "name": "stdout",
     "output_type": "stream",
     "text": [
      "\n",
      "Epoch 028 train_loss: 0.1416     val_loss 2.5318 train_acc 0.9623 val_acc 0.6810\n",
      "loss 0.13390748644031317\n"
     ]
    },
    {
     "name": "stderr",
     "output_type": "stream",
     "text": [
      "epoch:  97%|████████████████████████████████████████████████████████████████████████▌  | 29/30 [23:06<00:36, 36.86s/it]"
     ]
    },
    {
     "name": "stdout",
     "output_type": "stream",
     "text": [
      "\n",
      "Epoch 029 train_loss: 0.1339     val_loss 2.4453 train_acc 0.9662 val_acc 0.6907\n",
      "loss 0.13413972023772522\n"
     ]
    },
    {
     "name": "stderr",
     "output_type": "stream",
     "text": [
      "epoch: 100%|███████████████████████████████████████████████████████████████████████████| 30/30 [23:31<00:00, 47.05s/it]"
     ]
    },
    {
     "name": "stdout",
     "output_type": "stream",
     "text": [
      "\n",
      "Epoch 030 train_loss: 0.1341     val_loss 2.2244 train_acc 0.9678 val_acc 0.6819\n"
     ]
    },
    {
     "name": "stderr",
     "output_type": "stream",
     "text": [
      "\n"
     ]
    }
   ],
   "source": [
    "history = train(dataset, test_dataset, model=model, epochs=30, batch_size=8)"
   ]
  },
  {
   "cell_type": "code",
   "execution_count": 52,
   "id": "6f71fc11",
   "metadata": {},
   "outputs": [],
   "source": [
    "loss, acc, val_loss, val_acc = zip(*history)"
   ]
  },
  {
   "cell_type": "code",
   "execution_count": 53,
   "id": "414bec1c",
   "metadata": {},
   "outputs": [
    {
     "data": {
      "image/png": "[encoded data removed]",
      "text/plain": [
       "<Figure size 1500x900 with 1 Axes>"
      ]
     },
     "metadata": {},
     "output_type": "display_data"
    }
   ],
   "source": [
    "plt.figure(figsize=(15, 9))\n",
    "plt.plot(loss, label=\"train_loss\")\n",
    "plt.plot(val_loss, label=\"val_loss\")\n",
    "plt.legend(loc='best')\n",
    "plt.xlabel(\"epochs\")\n",
    "plt.ylabel(\"loss\")\n",
    "plt.show()"
   ]
  },
  {
   "cell_type": "code",
   "execution_count": null,
   "id": "8a14c4b5",
   "metadata": {},
   "outputs": [],
   "source": []
  }
 ],
 "metadata": {
  "kernelspec": {
   "display_name": "Python [conda env:myenv]",
   "language": "python",
   "name": "conda-env-myenv-py"
  },
  "language_info": {
   "codemirror_mode": {
    "name": "ipython",
    "version": 3
   },
   "file_extension": ".py",
   "mimetype": "text/x-python",
   "name": "python",
   "nbconvert_exporter": "python",
   "pygments_lexer": "ipython3",
   "version": "3.10.18"
  }
 },
 "nbformat": 4,
 "nbformat_minor": 5
}
