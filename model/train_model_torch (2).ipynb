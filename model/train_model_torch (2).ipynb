{
 "cells": [
  {
   "cell_type": "code",
   "execution_count": 1,
   "id": "1cbd0d11",
   "metadata": {
    "scrolled": true
   },
   "outputs": [
    {
     "name": "stderr",
     "output_type": "stream",
     "text": [
      "C:\\Python\\envs\\myenv\\lib\\site-packages\\tqdm\\auto.py:21: TqdmWarning: IProgress not found. Please update jupyter and ipywidgets. See https://ipywidgets.readthedocs.io/en/stable/user_install.html\n",
      "  from .autonotebook import tqdm as notebook_tqdm\n"
     ]
    }
   ],
   "source": [
    "import torch\n",
    "import numpy as np\n",
    "from sklearn.datasets import fetch_20newsgroups\n",
    "import string\n",
    "import re\n",
    "from collections import Counter\n",
    "import sys\n",
    "from torch import nn\n",
    "from torch.utils.data import DataLoader, TensorDataset\n",
    "from tqdm import tqdm, tqdm_notebook\n",
    "from torch.optim import lr_scheduler\n",
    "import torch.nn.functional as F\n",
    "import matplotlib.pyplot as plt\n",
    "from transformers import AutoModel, AutoTokenizer\n"
   ]
  },
  {
   "cell_type": "code",
   "execution_count": 3,
   "id": "fbff8a4c",
   "metadata": {},
   "outputs": [],
   "source": [
    "newsgroups_train = fetch_20newsgroups(subset='train')"
   ]
  },
  {
   "cell_type": "code",
   "execution_count": 4,
   "id": "b7e9f152",
   "metadata": {},
   "outputs": [],
   "source": [
    "newsgroups_test = fetch_20newsgroups(subset='test')"
   ]
  },
  {
   "cell_type": "code",
   "execution_count": 5,
   "id": "6fc94f8d",
   "metadata": {},
   "outputs": [],
   "source": [
    "tokenizer = AutoTokenizer.from_pretrained(\"bert-base-uncased\")"
   ]
  },
  {
   "cell_type": "code",
   "execution_count": 6,
   "id": "2eaeb0a6",
   "metadata": {},
   "outputs": [],
   "source": [
    "X_tensor = tokenizer(newsgroups_train.data, padding=True, truncation=True, return_tensors=\"pt\")\n",
    "y_tensor = torch.tensor(np.array(newsgroups_train.target), dtype=torch.long)"
   ]
  },
  {
   "cell_type": "code",
   "execution_count": 7,
   "id": "efa08fe8",
   "metadata": {},
   "outputs": [],
   "source": [
    "X_t_tensor = tokenizer(newsgroups_test.data, padding=True, truncation=True, return_tensors=\"pt\")\n",
    "y_t_tensor = torch.tensor(np.array(newsgroups_test.target), dtype=torch.long)"
   ]
  },
  {
   "cell_type": "code",
   "execution_count": 8,
   "id": "e212aa7d",
   "metadata": {},
   "outputs": [],
   "source": [
    "input_ids = X_tensor['input_ids']\n",
    "attention_mask = X_tensor['attention_mask']\n",
    "dataset = TensorDataset(input_ids, attention_mask, y_tensor)"
   ]
  },
  {
   "cell_type": "code",
   "execution_count": 9,
   "id": "44452b37",
   "metadata": {},
   "outputs": [],
   "source": [
    "input_ids_test = X_t_tensor['input_ids']\n",
    "attention_mask_test = X_t_tensor['attention_mask']\n",
    "test_dataset = TensorDataset(input_ids_test, attention_mask_test, y_t_tensor)"
   ]
  },
  {
   "cell_type": "code",
   "execution_count": 10,
   "id": "98dde3ad",
   "metadata": {},
   "outputs": [],
   "source": [
    "class MyModel(nn.Module):\n",
    "    def __init__(self, bert_model_name=\"bert-base-uncased\", lstm_units=128,\n",
    "                 dense_units=256, num_classes=20, nhead=4, num_layers=1, dropout=0.5):\n",
    "        super(MyModel, self).__init__()\n",
    "        \n",
    "        self.bert = AutoModel.from_pretrained(bert_model_name)\n",
    "        for param in self.bert.parameters():\n",
    "            param.requires_grad = False\n",
    "        \n",
    "        bert_hidden_size = self.bert.config.hidden_size\n",
    "        \n",
    "        self.lstm = nn.LSTM(input_size=bert_hidden_size,\n",
    "                            hidden_size=lstm_units,\n",
    "                            batch_first=True,\n",
    "                            bidirectional=True)\n",
    "        \n",
    "        \n",
    "        encoder_layer = nn.TransformerEncoderLayer(d_model=2*lstm_units,\n",
    "                                                   nhead=nhead,\n",
    "                                                   dim_feedforward=dense_units,\n",
    "                                                   dropout=dropout,\n",
    "                                                   batch_first=True)\n",
    "        \n",
    "        self.transformer = nn.TransformerEncoder(encoder_layer, num_layers=num_layers)\n",
    "        \n",
    "        self.dropout = nn.Dropout(dropout)\n",
    "        \n",
    "        self.fc = nn.Linear(2*lstm_units, dense_units)\n",
    "        self.out = nn.Linear(dense_units, num_classes)\n",
    "        \n",
    "    def forward(self, input_ids, attention_mask=None):\n",
    "        with torch.no_grad():  \n",
    "            bert_outputs = self.bert(input_ids=input_ids, attention_mask=attention_mask)\n",
    "            x = bert_outputs.last_hidden_state  \n",
    "            \n",
    "        x, _ = self.lstm(x)  \n",
    "        x = self.transformer(x)  \n",
    "        \n",
    "        x = x.mean(dim=1)  \n",
    "        \n",
    "        x = self.dropout(F.relu(self.fc(x)))\n",
    "        x = self.out(x)\n",
    "        \n",
    "        return x\n"
   ]
  },
  {
   "cell_type": "code",
   "execution_count": 11,
   "id": "525bb39b",
   "metadata": {},
   "outputs": [],
   "source": [
    "def fit_epoch(model, train_loader, criterion, optimizer):\n",
    "    model.train()\n",
    "    running_loss = 0.0\n",
    "    running_corrects = 0\n",
    "    processed_data = 0\n",
    "\n",
    "    for input_ids, attention_mask, labels in train_loader:\n",
    "        input_ids = input_ids.to(DEVICE)\n",
    "        attention_mask = attention_mask.to(DEVICE)\n",
    "        labels = labels.to(DEVICE)\n",
    "        optimizer.zero_grad()\n",
    "        outputs = model(input_ids=input_ids, attention_mask=attention_mask)\n",
    "        loss = criterion(outputs, labels)\n",
    "        loss.backward()\n",
    "        optimizer.step()\n",
    "        \n",
    "        preds = torch.argmax(outputs, 1)\n",
    "        running_loss += loss.item() * input_ids.size(0)\n",
    "        running_corrects += torch.sum(preds == labels.data)\n",
    "        processed_data += input_ids.size(0)\n",
    "\n",
    "    train_loss = running_loss / processed_data\n",
    "    train_acc = running_corrects.cpu().numpy() / processed_data\n",
    "    return train_loss, train_acc"
   ]
  },
  {
   "cell_type": "code",
   "execution_count": 12,
   "id": "9c7e5005",
   "metadata": {},
   "outputs": [],
   "source": [
    "def eval_epoch(model, val_loader, criterion):\n",
    "    model.eval()\n",
    "    running_loss = 0.0\n",
    "    running_corrects = 0\n",
    "    processed_size = 0\n",
    "\n",
    "    for input_ids, attention_mask, labels in val_loader:\n",
    "        input_ids = input_ids.to(DEVICE)\n",
    "        attention_mask = attention_mask.to(DEVICE)\n",
    "        labels = labels.to(DEVICE)\n",
    "\n",
    "        with torch.set_grad_enabled(False):\n",
    "            outputs = model(input_ids=input_ids, attention_mask=attention_mask)\n",
    "            loss = criterion(outputs, labels)\n",
    "            preds = torch.argmax(outputs, 1)\n",
    "\n",
    "        running_loss += loss.item() * input_ids.size(0)\n",
    "        running_corrects += torch.sum(preds == labels.data)\n",
    "        processed_size += input_ids.size(0)\n",
    "    val_loss = running_loss / processed_size\n",
    "    val_acc = running_corrects.double() / processed_size\n",
    "    return val_loss, val_acc"
   ]
  },
  {
   "cell_type": "code",
   "execution_count": 13,
   "id": "7c48f703",
   "metadata": {},
   "outputs": [],
   "source": [
    "def train(train_files, val_files, model, epochs, batch_size):\n",
    "    train_loader = DataLoader(train_files, batch_size=batch_size, shuffle=True)\n",
    "    val_loader = DataLoader(val_files, batch_size=batch_size, shuffle=False)\n",
    "\n",
    "    history = []\n",
    "    log_template = \"\\nEpoch {ep:03d} train_loss: {t_loss:0.4f} \\\n",
    "    val_loss {v_loss:0.4f} train_acc {t_acc:0.4f} val_acc {v_acc:0.4f}\"\n",
    "    \n",
    "    best_val_loss = float('inf')\n",
    "    \n",
    "    with tqdm(desc=\"epoch\", total=epochs) as pbar_outer:\n",
    "        opt = torch.optim.AdamW(model.parameters(), lr=1e-4) #AdamW вместо Adam\n",
    "        #exp_lr_scheduler = lr_scheduler.StepLR(opt, step_size=10, gamma=0.1)  #меняем learning rate \n",
    "        criterion = nn.CrossEntropyLoss()\n",
    "\n",
    "        for epoch in range(epochs):\n",
    "            train_loss, train_acc = fit_epoch(model, train_loader, criterion, opt)\n",
    "            print(\"loss\", train_loss)\n",
    "\n",
    "            val_loss, val_acc = eval_epoch(model, val_loader, criterion)\n",
    "            history.append((train_loss, train_acc, val_loss, val_acc))\n",
    "            \n",
    "            if val_loss < best_val_loss:\n",
    "                best_val_loss = val_loss\n",
    "                torch.save(model.state_dict(), \"best_model.pth\") \n",
    "                tqdm.write(f\"Best model saved at epoch {epoch+1} with val_loss={val_loss:.4f}\")\n",
    "                \n",
    "            pbar_outer.update(1)\n",
    "            tqdm.write(log_template.format(ep=epoch+1, t_loss=train_loss,\\\n",
    "                                           v_loss=val_loss, t_acc=train_acc, v_acc=val_acc))\n",
    "\n",
    "    return history"
   ]
  },
  {
   "cell_type": "code",
   "execution_count": 14,
   "id": "7fb4f842",
   "metadata": {},
   "outputs": [],
   "source": [
    "def predict(model, test_loader):\n",
    "    with torch.no_grad():\n",
    "        logits = []\n",
    "\n",
    "        for input_ids, attention_mask in test_loader:\n",
    "            input_ids = input_ids.to(DEVICE)\n",
    "            attention_mask = attention_mask.to(DEVICE)\n",
    "            model.eval()\n",
    "            outputs = model(input_ids=input_ids, attention_mask=attention_mask).cpu()\n",
    "            logits.append(outputs)\n",
    "\n",
    "    probs = nn.functional.softmax(torch.cat(logits), dim=-1).numpy()\n",
    "    return probs"
   ]
  },
  {
   "cell_type": "code",
   "execution_count": 15,
   "id": "a71e9b45",
   "metadata": {},
   "outputs": [],
   "source": [
    "DEVICE = torch.device(\"cuda\")"
   ]
  },
  {
   "cell_type": "code",
   "execution_count": 16,
   "id": "6ed47546",
   "metadata": {},
   "outputs": [],
   "source": [
    "model = MyModel().to(DEVICE)"
   ]
  },
  {
   "cell_type": "code",
   "execution_count": 17,
   "id": "ab62401c",
   "metadata": {},
   "outputs": [
    {
     "name": "stderr",
     "output_type": "stream",
     "text": [
      "epoch:   0%|                                                                                     | 0/5 [00:00<?, ?it/s]"
     ]
    },
    {
     "name": "stdout",
     "output_type": "stream",
     "text": [
      "loss 1.6630456611759064\n"
     ]
    },
    {
     "name": "stderr",
     "output_type": "stream",
     "text": [
      "epoch:  20%|██████████████▌                                                          | 1/5 [17:46<1:11:04, 1066.14s/it]"
     ]
    },
    {
     "name": "stdout",
     "output_type": "stream",
     "text": [
      "Best model saved at epoch 1 with val_loss=0.9122\n",
      "\n",
      "Epoch 001 train_loss: 1.6630     val_loss 0.9122 train_acc 0.4718 val_acc 0.6873\n",
      "loss 0.7460047332499165\n"
     ]
    },
    {
     "name": "stderr",
     "output_type": "stream",
     "text": [
      "epoch:  40%|██████████████████████████████                                             | 2/5 [35:27<53:09, 1063.12s/it]"
     ]
    },
    {
     "name": "stdout",
     "output_type": "stream",
     "text": [
      "Best model saved at epoch 2 with val_loss=0.7984\n",
      "\n",
      "Epoch 002 train_loss: 0.7460     val_loss 0.7984 train_acc 0.7546 val_acc 0.7574\n",
      "loss 0.5606311269885494\n"
     ]
    },
    {
     "name": "stderr",
     "output_type": "stream",
     "text": [
      "epoch:  60%|█████████████████████████████████████████████                              | 3/5 [53:05<35:21, 1060.72s/it]"
     ]
    },
    {
     "name": "stdout",
     "output_type": "stream",
     "text": [
      "Best model saved at epoch 3 with val_loss=0.7427\n",
      "\n",
      "Epoch 003 train_loss: 0.5606     val_loss 0.7427 train_acc 0.8209 val_acc 0.7877\n",
      "loss 0.4488927250925899\n"
     ]
    },
    {
     "name": "stderr",
     "output_type": "stream",
     "text": [
      "epoch:  80%|██████████████████████████████████████████████████████████▍              | 4/5 [1:10:59<17:46, 1066.02s/it]"
     ]
    },
    {
     "name": "stdout",
     "output_type": "stream",
     "text": [
      "\n",
      "Epoch 004 train_loss: 0.4489     val_loss 0.7654 train_acc 0.8558 val_acc 0.7877\n",
      "loss 0.3646454975833441\n"
     ]
    },
    {
     "name": "stderr",
     "output_type": "stream",
     "text": [
      "epoch: 100%|█████████████████████████████████████████████████████████████████████████| 5/5 [1:28:55<00:00, 1067.07s/it]"
     ]
    },
    {
     "name": "stdout",
     "output_type": "stream",
     "text": [
      "\n",
      "Epoch 005 train_loss: 0.3646     val_loss 0.7786 train_acc 0.8817 val_acc 0.8066\n"
     ]
    },
    {
     "name": "stderr",
     "output_type": "stream",
     "text": [
      "\n"
     ]
    }
   ],
   "source": [
    "history = train(dataset, test_dataset, model=model, epochs=5, batch_size=8)"
   ]
  },
  {
   "cell_type": "code",
   "execution_count": 18,
   "id": "6627ab43",
   "metadata": {},
   "outputs": [],
   "source": [
    "loss, acc, val_loss, val_acc = zip(*history)"
   ]
  },
  {
   "cell_type": "code",
   "execution_count": 19,
   "id": "1058c84e",
   "metadata": {},
   "outputs": [
    {
     "data": {
      "image/png": "[encoded data removed]",
      "text/plain": [
       "<Figure size 1500x900 with 1 Axes>"
      ]
     },
     "metadata": {},
     "output_type": "display_data"
    }
   ],
   "source": [
    "plt.figure(figsize=(15, 9))\n",
    "plt.plot(loss, label=\"train_loss\")\n",
    "plt.plot(val_loss, label=\"val_loss\")\n",
    "plt.legend(loc='best')\n",
    "plt.xlabel(\"epochs\")\n",
    "plt.ylabel(\"loss\")\n",
    "plt.show()"
   ]
  },
  {
   "cell_type": "code",
   "execution_count": null,
   "id": "ff15b6da",
   "metadata": {},
   "outputs": [],
   "source": []
  }
 ],
 "metadata": {
  "kernelspec": {
   "display_name": "Python [conda env:myenv]",
   "language": "python",
   "name": "conda-env-myenv-py"
  },
  "language_info": {
   "codemirror_mode": {
    "name": "ipython",
    "version": 3
   },
   "file_extension": ".py",
   "mimetype": "text/x-python",
   "name": "python",
   "nbconvert_exporter": "python",
   "pygments_lexer": "ipython3",
   "version": "3.10.18"
  }
 },
 "nbformat": 4,
 "nbformat_minor": 5
}
